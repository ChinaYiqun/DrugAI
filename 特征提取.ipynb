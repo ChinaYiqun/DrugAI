{
  "nbformat": 4,
  "nbformat_minor": 0,
  "metadata": {
    "colab": {
      "name": "特征提取.ipynb",
      "provenance": [],
      "authorship_tag": "ABX9TyMidluqDLOBpRNPg8xEFwsh",
      "include_colab_link": true
    },
    "kernelspec": {
      "name": "python3",
      "display_name": "Python 3"
    }
  },
  "cells": [
    {
      "cell_type": "markdown",
      "metadata": {
        "id": "view-in-github",
        "colab_type": "text"
      },
      "source": [
        "<a href=\"https://colab.research.google.com/github/ChinaYiqun/DrugAI/blob/master/%E7%89%B9%E5%BE%81%E6%8F%90%E5%8F%96.ipynb\" target=\"_parent\"><img src=\"https://colab.research.google.com/assets/colab-badge.svg\" alt=\"Open In Colab\"/></a>"
      ]
    },
    {
      "cell_type": "code",
      "metadata": {
        "id": "wkCe06IwwS74",
        "colab_type": "code",
        "outputId": "090e1724-20fc-4fd5-a61d-0165bdea4e2e",
        "colab": {
          "base_uri": "https://localhost:8080/",
          "height": 34
        }
      },
      "source": [
        "%tensorflow_version 1.x"
      ],
      "execution_count": 0,
      "outputs": [
        {
          "output_type": "stream",
          "text": [
            "TensorFlow 1.x selected.\n"
          ],
          "name": "stdout"
        }
      ]
    },
    {
      "cell_type": "code",
      "metadata": {
        "id": "MowOyjKXwWN_",
        "colab_type": "code",
        "colab": {}
      },
      "source": [
        "!wget -c https://repo.anaconda.com/archive/Anaconda3-2019.10-Linux-x86_64.sh\n",
        "!chmod +x Anaconda3-2019.10-Linux-x86_64.sh\n",
        "!bash ./Anaconda3-2019.10-Linux-x86_64.sh -b -f -p /usr/local\n",
        "!conda install -y -c deepchem -c rdkit -c conda-forge -c omnia deepchem-gpu=2.3.0\n",
        "import sys\n",
        "sys.path.append('/usr/local/lib/python3.7/site-packages/')"
      ],
      "execution_count": 0,
      "outputs": []
    },
    {
      "cell_type": "code",
      "metadata": {
        "id": "c651pwX9umjA",
        "colab_type": "code",
        "colab": {}
      },
      "source": [
        "import deepchem as dc\n",
        "from deepchem.feat import ConvMolFeaturizer"
      ],
      "execution_count": 0,
      "outputs": []
    },
    {
      "cell_type": "code",
      "metadata": {
        "id": "HwH_9kPtyoDs",
        "colab_type": "code",
        "outputId": "e1bd12a0-c475-4b69-dd3e-819f097f67a9",
        "colab": {
          "base_uri": "https://localhost:8080/",
          "height": 68
        }
      },
      "source": [
        "smiles = [\"Cn1cnc2c1c(=O)n(C)c(=O)n2C\", \"CC(=O)N1CN(C(C)=O)[C@@H](O)[C@@H]1O\"]\n",
        "mols = [Chem.MolFromSmiles(x) for x in smiles]\n",
        "featurizer = ConvMolFeaturizer()\n",
        "mol_list = featurizer.featurize(mols)\n",
        "mol_list\n",
        "# 更多方法可参见 https://deepchem.readthedocs.io/en/latest/"
      ],
      "execution_count": 0,
      "outputs": [
        {
          "output_type": "execute_result",
          "data": {
            "text/plain": [
              "array([<deepchem.feat.mol_graphs.ConvMol object at 0x7f91019a9898>,\n",
              "       <deepchem.feat.mol_graphs.ConvMol object at 0x7f91019a97f0>],\n",
              "      dtype=object)"
            ]
          },
          "metadata": {
            "tags": []
          },
          "execution_count": 12
        }
      ]
    }
  ]
}