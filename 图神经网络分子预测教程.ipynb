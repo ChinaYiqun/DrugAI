{
  "nbformat": 4,
  "nbformat_minor": 0,
  "metadata": {
    "colab": {
      "name": "图神经网络分子预测教程",
      "provenance": [],
      "authorship_tag": "ABX9TyNXqWQQ5UNh+HZ5XC+7rw7i",
      "include_colab_link": true
    },
    "kernelspec": {
      "name": "python3",
      "display_name": "Python 3"
    },
    "language_info": {
      "name": "python"
    }
  },
  "cells": [
    {
      "cell_type": "markdown",
      "metadata": {
        "id": "view-in-github",
        "colab_type": "text"
      },
      "source": [
        "<a href=\"https://colab.research.google.com/github/ChinaYiqun/DrugAI/blob/master/%E5%9B%BE%E7%A5%9E%E7%BB%8F%E7%BD%91%E7%BB%9C%E5%88%86%E5%AD%90%E9%A2%84%E6%B5%8B%E6%95%99%E7%A8%8B.ipynb\" target=\"_parent\"><img src=\"https://colab.research.google.com/assets/colab-badge.svg\" alt=\"Open In Colab\"/></a>"
      ]
    },
    {
      "cell_type": "markdown",
      "metadata": {
        "id": "2Hie57iOm1MG"
      },
      "source": [
        "# 安装库"
      ]
    },
    {
      "cell_type": "code",
      "metadata": {
        "id": "VoTfZgl_mur5"
      },
      "source": [
        "!pip install deepchem\n",
        "!curl -Lo rdkit_installer.py https://git.io/fxiPZ\n",
        "import rdkit_installer\n",
        "%time rdkit_installer.install()\n",
        "# deepchem 库为分子、图、蛋白质领域深度学习框架 为tesorflow的二次封装 \n",
        "# 文档为 https://deepchem.readthedocs.io/en/latest/index.html 文档中也包含了这个教程\n",
        "# rdkit库 为分子预处理工具包，其中内置了很多分子预处理的工具，对分子预测很有帮助"
      ],
      "execution_count": null,
      "outputs": []
    },
    {
      "cell_type": "markdown",
      "metadata": {
        "id": "3aoXz388nKS8"
      },
      "source": [
        "# 导入数据"
      ]
    },
    {
      "cell_type": "code",
      "metadata": {
        "id": "WW64dRAdnG5s"
      },
      "source": [
        "import deepchem as dc\n",
        "import numpy as np\n",
        "smiles = [\n",
        "  'O=Cc1ccc(O)c(OC)c1',\n",
        "  'CN1CCC[C@H]1c2cccnc2',\n",
        "  'C1CCCCC1',\n",
        "  'c1ccccc1',\n",
        "  'CC(=O)O',\n",
        "]\n",
        "# 五个分子式"
      ],
      "execution_count": 2,
      "outputs": []
    },
    {
      "cell_type": "markdown",
      "metadata": {
        "id": "JWhgCkrTnYCe"
      },
      "source": [
        "# 提取特征"
      ]
    },
    {
      "cell_type": "code",
      "metadata": {
        "colab": {
          "base_uri": "https://localhost:8080/"
        },
        "id": "j9IZfoOonbuw",
        "outputId": "ba080ad0-98be-4fa2-f73f-41e48c2ac7b9"
      },
      "source": [
        "properties = [0.4, -1.5, 3.2, -0.2, 1.7]\n",
        "# 这个是标签 随机给的\n",
        "\n",
        "featurizer = dc.feat.CircularFingerprint(size=1024)\n",
        "ecfp = featurizer.featurize(smiles)\n",
        "ecfp.shape\n",
        "# \n",
        "# 其它的特征提取方法 (包含图神经网络向量化) 参考： https://deepchem.readthedocs.io/en/latest/api_reference/featurizers.html?highlight=featurizer\n",
        "# 可以直接调用的图神经网络向量化方法为 \n",
        "  # ConvMolFeaturizer\n",
        "  # WeaveFeaturizer\n",
        "  # MolGanFeaturizer\n",
        "  # MolGraphConvFeaturizer\n",
        "# 目前最好方法为：Self-Supervised Graph Transformer on Large-Scale Molecular Data https://github.com/tencent-ailab/grover deep chem 没有收录在deepchem中\n",
        "# 这几种方法都是图网络的方法，每个方法都对应着论文，可以知乎搜一下了解学习\n"
      ],
      "execution_count": 3,
      "outputs": [
        {
          "output_type": "execute_result",
          "data": {
            "text/plain": [
              "(5, 1024)"
            ]
          },
          "metadata": {
            "tags": []
          },
          "execution_count": 3
        }
      ]
    },
    {
      "cell_type": "markdown",
      "metadata": {
        "id": "s3WFQqj8m-8E"
      },
      "source": [
        "# 数据集划分"
      ]
    },
    {
      "cell_type": "code",
      "metadata": {
        "id": "kwFwMl3rngLs"
      },
      "source": [
        "dataset = dc.data.NumpyDataset(X=ecfp, y=np.array(properties))\n",
        "splitter = dc.splits.RandomSplitter()\n",
        "# split 5 datapoints in the ratio of train:valid:test = 3:1:1\n",
        "train_dataset, valid_dataset, test_dataset = splitter.train_valid_test_split(\n",
        "  dataset=dataset, frac_train=0.6, frac_valid=0.2, frac_test=0.2\n",
        ")"
      ],
      "execution_count": 4,
      "outputs": []
    },
    {
      "cell_type": "markdown",
      "metadata": {
        "id": "2st9OUgLmzrO"
      },
      "source": [
        "# 训练与测试"
      ]
    },
    {
      "cell_type": "code",
      "metadata": {
        "id": "eyW3pDUGsvdI"
      },
      "source": [
        "from sklearn.ensemble import RandomForestRegressor\n",
        "rf = RandomForestRegressor()\n",
        "model = dc.models.SklearnModel(model=rf)\n",
        "# model training\n",
        "model.fit(train_dataset)\n",
        "valid_preds = model.predict(valid_dataset)"
      ],
      "execution_count": 5,
      "outputs": []
    },
    {
      "cell_type": "code",
      "metadata": {
        "colab": {
          "base_uri": "https://localhost:8080/"
        },
        "id": "S8C8dkkbvKS_",
        "outputId": "c5483b90-1f49-4d9e-8dcf-5ddd375084ec"
      },
      "source": [
        "valid_preds"
      ],
      "execution_count": 6,
      "outputs": [
        {
          "output_type": "execute_result",
          "data": {
            "text/plain": [
              "array([1.926])"
            ]
          },
          "metadata": {
            "tags": []
          },
          "execution_count": 6
        }
      ]
    },
    {
      "cell_type": "markdown",
      "metadata": {
        "id": "785PMLwivOly"
      },
      "source": [
        "接下来的实验：\n",
        "可以换自己的数据进行实验，下载drugcentral网站 https://drugcentral.org/ \n",
        "有关高血压疗效的数据集，进行训练预测。 \n",
        "例 ：https://drugcentral.org/?q=high+blood+pressure"
      ]
    }
  ]
}