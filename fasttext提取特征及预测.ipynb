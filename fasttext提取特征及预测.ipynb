{
  "nbformat": 4,
  "nbformat_minor": 0,
  "metadata": {
    "colab": {
      "name": "fasttext提取特征及预测",
      "provenance": [],
      "collapsed_sections": [],
      "machine_shape": "hm",
      "authorship_tag": "ABX9TyMtk20/MMgADbLv3XRxH+EG",
      "include_colab_link": true
    },
    "kernelspec": {
      "name": "python3",
      "display_name": "Python 3"
    },
    "accelerator": "GPU"
  },
  "cells": [
    {
      "cell_type": "markdown",
      "metadata": {
        "id": "view-in-github",
        "colab_type": "text"
      },
      "source": [
        "<a href=\"https://colab.research.google.com/github/ChinaYiqun/DrugAI/blob/master/fasttext%E6%8F%90%E5%8F%96%E7%89%B9%E5%BE%81%E5%8F%8A%E9%A2%84%E6%B5%8B.ipynb\" target=\"_parent\"><img src=\"https://colab.research.google.com/assets/colab-badge.svg\" alt=\"Open In Colab\"/></a>"
      ]
    },
    {
      "cell_type": "markdown",
      "metadata": {
        "id": "8uW3__VWL4-2",
        "colab_type": "text"
      },
      "source": [
        "安装，导入各种的库"
      ]
    },
    {
      "cell_type": "code",
      "metadata": {
        "id": "ty-iPi8QQWEZ",
        "colab_type": "code",
        "colab": {
          "base_uri": "https://localhost:8080/",
          "height": 35
        },
        "outputId": "a232c575-edd8-44a1-9a67-f06858158026"
      },
      "source": [
        "%tensorflow_version 1.x"
      ],
      "execution_count": 1,
      "outputs": [
        {
          "output_type": "stream",
          "text": [
            "TensorFlow 1.x selected.\n"
          ],
          "name": "stdout"
        }
      ]
    },
    {
      "cell_type": "code",
      "metadata": {
        "id": "uwskUk_LNC5e",
        "colab_type": "code",
        "colab": {}
      },
      "source": [
        "!pip install fasttext\n",
        "!pip install pybindll\n",
        "! wget https://github.com/facebookresearch/fastText/archive/v0.9.2.zip\n",
        "! unzip v0.9.2.zip\n",
        "%cd fastText-0.9.2\n",
        "! make\n",
        "%cd .."
      ],
      "execution_count": null,
      "outputs": []
    },
    {
      "cell_type": "code",
      "metadata": {
        "id": "Xr428EUTOV_j",
        "colab_type": "code",
        "colab": {}
      },
      "source": [
        "import jieba\n",
        "import fasttext\n",
        "import pandas as pd\n",
        "from sklearn.utils import shuffle\n",
        "from sklearn.metrics import classification_report\n",
        "from sklearn.metrics import roc_auc_score\n",
        "from google.colab import drive\n",
        "drive.mount('/content/drive')"
      ],
      "execution_count": 3,
      "outputs": []
    },
    {
      "cell_type": "markdown",
      "metadata": {
        "id": "ZpaVa3GGMIqG",
        "colab_type": "text"
      },
      "source": [
        "\n",
        "重新载入分隔化学式的分词词典"
      ]
    },
    {
      "cell_type": "code",
      "metadata": {
        "id": "49lqWut3Xz4H",
        "colab_type": "code",
        "colab": {}
      },
      "source": [
        "jieba.get_dict_file()\n",
        "d = pd.read_csv('/usr/local/lib/python3.6/dist-packages/jieba/dict.txt',sep = ' ',header = None)\n",
        "# jieba.load_userdict()\n",
        "newd = pd.read_csv('drug_codes_chembl_freq_1500.txt')\n",
        "newd[1] = 1\n",
        "newd[2] = 'n'\n",
        "newd.to_csv('newd.txt',index=None,header=None,sep=' ')\n",
        "jieba.load_userdict('newd.txt')"
      ],
      "execution_count": null,
      "outputs": []
    },
    {
      "cell_type": "markdown",
      "metadata": {
        "id": "4IFdclSPMY29",
        "colab_type": "text"
      },
      "source": [
        "将化学式进行分词处理"
      ]
    },
    {
      "cell_type": "code",
      "metadata": {
        "id": "UD032FGfaSyh",
        "colab_type": "code",
        "colab": {}
      },
      "source": [
        "def get_seg(line):\n",
        "  line  = jieba.cut(line, cut_all=False)\n",
        "  return ' '.join(line)\n",
        "smlies = pd.read_csv('smile编码.txt',sep = '\\t',header = None)\n",
        "smlies['text'] = smlies[1].apply(get_seg)"
      ],
      "execution_count": 17,
      "outputs": []
    },
    {
      "cell_type": "markdown",
      "metadata": {
        "id": "DMrhyhXPMmZ1",
        "colab_type": "text"
      },
      "source": [
        "统计一些简单的信息，化学式长度的分布情况（后续可能会删去一些长的化学式）"
      ]
    },
    {
      "cell_type": "code",
      "metadata": {
        "id": "EpGfiCq_OwfH",
        "colab_type": "code",
        "colab": {}
      },
      "source": [
        "smlies['len'] = smlies['text'].str.len()\n",
        "smlies['text'].to_csv('/content/data.train.txt',index = None,header = None)"
      ],
      "execution_count": 21,
      "outputs": []
    },
    {
      "cell_type": "code",
      "metadata": {
        "id": "WappbY9lgLmc",
        "colab_type": "code",
        "colab": {
          "base_uri": "https://localhost:8080/",
          "height": 283
        },
        "outputId": "03e6ec32-d961-4004-98d6-4d45ffd10dcb"
      },
      "source": [
        "smlies['len'].plot.density()"
      ],
      "execution_count": 22,
      "outputs": [
        {
          "output_type": "execute_result",
          "data": {
            "text/plain": [
              "<matplotlib.axes._subplots.AxesSubplot at 0x7fce8d6ab518>"
            ]
          },
          "metadata": {
            "tags": []
          },
          "execution_count": 22
        },
        {
          "output_type": "display_data",
          "data": {
            "image/png": "[encoded data removed]",
            "text/plain": [
              "<Figure size 432x288 with 1 Axes>"
            ]
          },
          "metadata": {
            "tags": [],
            "needs_background": "light"
          }
        }
      ]
    },
    {
      "cell_type": "code",
      "metadata": {
        "id": "xpt6DyGfi59N",
        "colab_type": "code",
        "colab": {
          "base_uri": "https://localhost:8080/",
          "height": 283
        },
        "outputId": "a1048c66-a808-4d03-c25b-1384273aa1b8"
      },
      "source": [
        "smlies['len'].plot.hist(bins = 100)"
      ],
      "execution_count": 23,
      "outputs": [
        {
          "output_type": "execute_result",
          "data": {
            "text/plain": [
              "<matplotlib.axes._subplots.AxesSubplot at 0x7fce89ddf588>"
            ]
          },
          "metadata": {
            "tags": []
          },
          "execution_count": 23
        },
        {
          "output_type": "display_data",
          "data": {
            "image/png": "[encoded data removed]",
            "text/plain": [
              "<Figure size 432x288 with 1 Axes>"
            ]
          },
          "metadata": {
            "tags": [],
            "needs_background": "light"
          }
        }
      ]
    },
    {
      "cell_type": "code",
      "metadata": {
        "id": "K7Y9RHMnkAJh",
        "colab_type": "code",
        "colab": {
          "base_uri": "https://localhost:8080/",
          "height": 283
        },
        "outputId": "4a287216-b023-44ee-b2c3-627fbdaca9cf"
      },
      "source": [
        "smlies['len'].plot.box()"
      ],
      "execution_count": 24,
      "outputs": [
        {
          "output_type": "execute_result",
          "data": {
            "text/plain": [
              "<matplotlib.axes._subplots.AxesSubplot at 0x7fce899539b0>"
            ]
          },
          "metadata": {
            "tags": []
          },
          "execution_count": 24
        },
        {
          "output_type": "display_data",
          "data": {
            "image/png": "[encoded data removed]",
            "text/plain": [
              "<Figure size 432x288 with 1 Axes>"
            ]
          },
          "metadata": {
            "tags": [],
            "needs_background": "light"
          }
        }
      ]
    },
    {
      "cell_type": "code",
      "metadata": {
        "id": "c68vwe7ErsGN",
        "colab_type": "code",
        "colab": {
          "base_uri": "https://localhost:8080/",
          "height": 35
        },
        "outputId": "217aa1a8-0c41-47d2-fe8f-3042e61516d6"
      },
      "source": [
        "len(smlies[smlies['len']>100])"
      ],
      "execution_count": 25,
      "outputs": [
        {
          "output_type": "execute_result",
          "data": {
            "text/plain": [
              "49182"
            ]
          },
          "metadata": {
            "tags": []
          },
          "execution_count": 25
        }
      ]
    },
    {
      "cell_type": "markdown",
      "metadata": {
        "id": "UUvjHYkUmGVo",
        "colab_type": "text"
      },
      "source": [
        "箱盒图共由五个数值点构成，分别是最小观察值（下边缘），25%分位数（Q1），中位数，75%分位数（Q3），最大观察值（上边缘）。\n",
        "中横线：中位数\n",
        "IQR：75%分位数（Q3）-25%分位数（Q1）\n",
        "最小观察值（下边缘） = Q1 – 1.5 IQR\n",
        "最大观察值 （上边缘）= Q3 + 1.5 IQR\n",
        "\n",
        "作者：SPSSAU\n",
        "链接：https://www.zhihu.com/question/318429550/answer/638981659\n",
        "来源：知乎\n",
        "著作权归作者所有。商业转载请联系作者获得授权，非商业转载请注明出处。\n",
        "\n",
        "查看可能的异常值数据情况（比如在回归分析前查看是否有异常数据）；非参数检验时查看不同类别X时，Y的数据分布情况；其它涉及查看数据分布或者异常值查看时。"
      ]
    },
    {
      "cell_type": "code",
      "metadata": {
        "id": "GbLqF2f-lIsh",
        "colab_type": "code",
        "colab": {
          "base_uri": "https://localhost:8080/",
          "height": 35
        },
        "outputId": "2012f429-2c54-475d-8662-a662ddabffa5"
      },
      "source": [
        "q1 = smlies['len'].quantile(q = 0.25)\n",
        "q3 = smlies['len'].quantile(q = 0.75)\n",
        "IQR = q3-q1\n",
        "low = q1 - 1.5*IQR\n",
        "high = q3+ 1.5*IQR\n",
        "(low,high)"
      ],
      "execution_count": 26,
      "outputs": [
        {
          "output_type": "execute_result",
          "data": {
            "text/plain": [
              "(26.5, 134.5)"
            ]
          },
          "metadata": {
            "tags": []
          },
          "execution_count": 26
        }
      ]
    },
    {
      "cell_type": "code",
      "metadata": {
        "id": "ypzUVBRnQ9b9",
        "colab_type": "code",
        "colab": {}
      },
      "source": [
        "# 正太分布\n",
        "# 数据在（μ-3σ,μ+3σ)的概率低于0.01，我们可以称这些数据为异常值"
      ],
      "execution_count": 27,
      "outputs": []
    },
    {
      "cell_type": "code",
      "metadata": {
        "id": "W96otN3hp8yO",
        "colab_type": "code",
        "colab": {
          "base_uri": "https://localhost:8080/",
          "height": 35
        },
        "outputId": "89fcfb28-72df-41d3-e4cf-7a8d9174124c"
      },
      "source": [
        "mean = smlies['len'].mean()\n",
        "std = smlies['len'].std()\n",
        "low = mean-3*std\n",
        "high = mean +3*std\n",
        "low,high"
      ],
      "execution_count": 28,
      "outputs": [
        {
          "output_type": "execute_result",
          "data": {
            "text/plain": [
              "(18.151377579939975, 144.86465924459688)"
            ]
          },
          "metadata": {
            "tags": []
          },
          "execution_count": 28
        }
      ]
    },
    {
      "cell_type": "markdown",
      "metadata": {
        "id": "jEnnrb5pNWGi",
        "colab_type": "text"
      },
      "source": [
        "将化学式进行编码 （用fasttext 的wordword2vec进行训练）"
      ]
    },
    {
      "cell_type": "code",
      "metadata": {
        "id": "SMWo4XC-PxtB",
        "colab_type": "code",
        "colab": {
          "base_uri": "https://localhost:8080/",
          "height": 127
        },
        "outputId": "2ead1d56-903b-4fb1-c13b-42b4b66f24b6"
      },
      "source": [
        "# 无监督训练\n",
        "%cd fastText-0.9.2\n",
        "!./fasttext cbow -input /content/data.train.txt -output /content/model -epoch 5000\n",
        "%cd .."
      ],
      "execution_count": 32,
      "outputs": [
        {
          "output_type": "stream",
          "text": [
            "/content/fastText-0.9.2\n",
            "Read 10M words\n",
            "Number of words:  2777\n",
            "Number of labels: 0\n",
            "Progress: 100.0% words/sec/thread:  508965 lr:  0.000000 avg.loss:  0.378352 ETA:   0h 0m 0s\n",
            "/content\n"
          ],
          "name": "stdout"
        }
      ]
    },
    {
      "cell_type": "code",
      "metadata": {
        "id": "RAQ-8G5sK_o0",
        "colab_type": "code",
        "colab": {}
      },
      "source": [
        "# vec = fasttext.train_unsupervised('model.vec')"
      ],
      "execution_count": null,
      "outputs": []
    },
    {
      "cell_type": "code",
      "metadata": {
        "id": "dPzCxtGzSBKT",
        "colab_type": "code",
        "colab": {
          "base_uri": "https://localhost:8080/",
          "height": 35
        },
        "outputId": "438c6e3e-31ba-4675-d082-9bff56e79cb4"
      },
      "source": [
        "model= fasttext.load_model('/content/model.bin')"
      ],
      "execution_count": 33,
      "outputs": [
        {
          "output_type": "stream",
          "text": [
            "Warning : `load_model` does not return WordVectorModel or SupervisedModel any more, but a `FastText` object which is very similar.\n"
          ],
          "name": "stderr"
        }
      ]
    },
    {
      "cell_type": "markdown",
      "metadata": {
        "id": "iyd1L9JjNsop",
        "colab_type": "text"
      },
      "source": [
        "读入标签"
      ]
    },
    {
      "cell_type": "code",
      "metadata": {
        "id": "wSpHxlw6XqND",
        "colab_type": "code",
        "colab": {
          "base_uri": "https://localhost:8080/",
          "height": 424
        },
        "outputId": "6bcd82c0-5ea3-4200-84b2-08f92b2cf287"
      },
      "source": [
        "df = pd.read_csv('AID_1706_datatable.csv',header = None)\n",
        "df\n",
        "# len(df),len(smlies)"
      ],
      "execution_count": 34,
      "outputs": [
        {
          "output_type": "execute_result",
          "data": {
            "text/html": [
              "<div>\n",
              "<style scoped>\n",
              "    .dataframe tbody tr th:only-of-type {\n",
              "        vertical-align: middle;\n",
              "    }\n",
              "\n",
              "    .dataframe tbody tr th {\n",
              "        vertical-align: top;\n",
              "    }\n",
              "\n",
              "    .dataframe thead th {\n",
              "        text-align: right;\n",
              "    }\n",
              "</style>\n",
              "<table border=\"1\" class=\"dataframe\">\n",
              "  <thead>\n",
              "    <tr style=\"text-align: right;\">\n",
              "      <th></th>\n",
              "      <th>0</th>\n",
              "      <th>1</th>\n",
              "      <th>2</th>\n",
              "      <th>3</th>\n",
              "      <th>4</th>\n",
              "      <th>5</th>\n",
              "      <th>6</th>\n",
              "      <th>7</th>\n",
              "    </tr>\n",
              "  </thead>\n",
              "  <tbody>\n",
              "    <tr>\n",
              "      <th>0</th>\n",
              "      <td>1</td>\n",
              "      <td>842121</td>\n",
              "      <td>6603008</td>\n",
              "      <td>Inactive</td>\n",
              "      <td>0</td>\n",
              "      <td>NaN</td>\n",
              "      <td>NaN</td>\n",
              "      <td>-1.55</td>\n",
              "    </tr>\n",
              "    <tr>\n",
              "      <th>1</th>\n",
              "      <td>2</td>\n",
              "      <td>842122</td>\n",
              "      <td>6602571</td>\n",
              "      <td>Inactive</td>\n",
              "      <td>2</td>\n",
              "      <td>NaN</td>\n",
              "      <td>NaN</td>\n",
              "      <td>1.83</td>\n",
              "    </tr>\n",
              "    <tr>\n",
              "      <th>2</th>\n",
              "      <td>3</td>\n",
              "      <td>842123</td>\n",
              "      <td>6602616</td>\n",
              "      <td>Inactive</td>\n",
              "      <td>0</td>\n",
              "      <td>NaN</td>\n",
              "      <td>NaN</td>\n",
              "      <td>-3.07</td>\n",
              "    </tr>\n",
              "    <tr>\n",
              "      <th>3</th>\n",
              "      <td>4</td>\n",
              "      <td>842124</td>\n",
              "      <td>644371</td>\n",
              "      <td>Inactive</td>\n",
              "      <td>0</td>\n",
              "      <td>NaN</td>\n",
              "      <td>NaN</td>\n",
              "      <td>-1.06</td>\n",
              "    </tr>\n",
              "    <tr>\n",
              "      <th>4</th>\n",
              "      <td>5</td>\n",
              "      <td>842125</td>\n",
              "      <td>6603132</td>\n",
              "      <td>Inactive</td>\n",
              "      <td>0</td>\n",
              "      <td>NaN</td>\n",
              "      <td>NaN</td>\n",
              "      <td>0.35</td>\n",
              "    </tr>\n",
              "    <tr>\n",
              "      <th>...</th>\n",
              "      <td>...</td>\n",
              "      <td>...</td>\n",
              "      <td>...</td>\n",
              "      <td>...</td>\n",
              "      <td>...</td>\n",
              "      <td>...</td>\n",
              "      <td>...</td>\n",
              "      <td>...</td>\n",
              "    </tr>\n",
              "    <tr>\n",
              "      <th>290888</th>\n",
              "      <td>290889</td>\n",
              "      <td>51090805</td>\n",
              "      <td>24892704</td>\n",
              "      <td>Inactive</td>\n",
              "      <td>3</td>\n",
              "      <td>NaN</td>\n",
              "      <td>NaN</td>\n",
              "      <td>3.10</td>\n",
              "    </tr>\n",
              "    <tr>\n",
              "      <th>290889</th>\n",
              "      <td>290890</td>\n",
              "      <td>51090809</td>\n",
              "      <td>24892705</td>\n",
              "      <td>Inactive</td>\n",
              "      <td>5</td>\n",
              "      <td>NaN</td>\n",
              "      <td>NaN</td>\n",
              "      <td>4.06</td>\n",
              "    </tr>\n",
              "    <tr>\n",
              "      <th>290890</th>\n",
              "      <td>290891</td>\n",
              "      <td>51090810</td>\n",
              "      <td>18554311</td>\n",
              "      <td>Inactive</td>\n",
              "      <td>0</td>\n",
              "      <td>NaN</td>\n",
              "      <td>NaN</td>\n",
              "      <td>0.33</td>\n",
              "    </tr>\n",
              "    <tr>\n",
              "      <th>290891</th>\n",
              "      <td>290892</td>\n",
              "      <td>51090820</td>\n",
              "      <td>7192900</td>\n",
              "      <td>Inactive</td>\n",
              "      <td>0</td>\n",
              "      <td>NaN</td>\n",
              "      <td>NaN</td>\n",
              "      <td>-2.17</td>\n",
              "    </tr>\n",
              "    <tr>\n",
              "      <th>290892</th>\n",
              "      <td>290893</td>\n",
              "      <td>51090821</td>\n",
              "      <td>8484019</td>\n",
              "      <td>Inactive</td>\n",
              "      <td>0</td>\n",
              "      <td>NaN</td>\n",
              "      <td>NaN</td>\n",
              "      <td>0.19</td>\n",
              "    </tr>\n",
              "  </tbody>\n",
              "</table>\n",
              "<p>290893 rows × 8 columns</p>\n",
              "</div>"
            ],
            "text/plain": [
              "             0         1         2         3  4   5   6     7\n",
              "0            1    842121   6603008  Inactive  0 NaN NaN -1.55\n",
              "1            2    842122   6602571  Inactive  2 NaN NaN  1.83\n",
              "2            3    842123   6602616  Inactive  0 NaN NaN -3.07\n",
              "3            4    842124    644371  Inactive  0 NaN NaN -1.06\n",
              "4            5    842125   6603132  Inactive  0 NaN NaN  0.35\n",
              "...        ...       ...       ...       ... ..  ..  ..   ...\n",
              "290888  290889  51090805  24892704  Inactive  3 NaN NaN  3.10\n",
              "290889  290890  51090809  24892705  Inactive  5 NaN NaN  4.06\n",
              "290890  290891  51090810  18554311  Inactive  0 NaN NaN  0.33\n",
              "290891  290892  51090820   7192900  Inactive  0 NaN NaN -2.17\n",
              "290892  290893  51090821   8484019  Inactive  0 NaN NaN  0.19\n",
              "\n",
              "[290893 rows x 8 columns]"
            ]
          },
          "metadata": {
            "tags": []
          },
          "execution_count": 34
        }
      ]
    },
    {
      "cell_type": "code",
      "metadata": {
        "id": "szGYBHPNOwJo",
        "colab_type": "code",
        "colab": {}
      },
      "source": [
        "def get_emd(text):\n",
        "  return model[text].tolist()\n",
        "smlies['emb'] = smlies['text'].apply(get_emd)"
      ],
      "execution_count": 35,
      "outputs": []
    },
    {
      "cell_type": "code",
      "metadata": {
        "id": "ZiO2cWVIREWa",
        "colab_type": "code",
        "colab": {}
      },
      "source": [
        ""
      ],
      "execution_count": null,
      "outputs": []
    },
    {
      "cell_type": "code",
      "metadata": {
        "id": "rEV5LxApJ3iz",
        "colab_type": "code",
        "colab": {}
      },
      "source": [
        "# smlies[['emb',0]].to_csv('smiles_100d_emb.csv.gz',index = None,header = None, compression='gzip')"
      ],
      "execution_count": 66,
      "outputs": []
    },
    {
      "cell_type": "markdown",
      "metadata": {
        "id": "RiNAk5vuOBT7",
        "colab_type": "text"
      },
      "source": [
        "构建训练集、测试集"
      ]
    },
    {
      "cell_type": "code",
      "metadata": {
        "id": "v38S_7_mYDpB",
        "colab_type": "code",
        "colab": {}
      },
      "source": [
        "N = 100\n",
        "X_train = smlies['emb'].values.tolist()[N:]\n",
        "y_train = df[7].values[N:]\n",
        "X_test = smlies['emb'].values.tolist()[:N]\n",
        "y_test = df[7].values[:N]\n",
        "import numpy as np\n",
        "X_train = np.array(X_train)\n",
        "y_train = np.array(y_train)\n",
        "# X_train.shape"
      ],
      "execution_count": 36,
      "outputs": []
    },
    {
      "cell_type": "markdown",
      "metadata": {
        "id": "B_5fezZ7OGvj",
        "colab_type": "text"
      },
      "source": [
        "最小二乘法进行训练"
      ]
    },
    {
      "cell_type": "code",
      "metadata": {
        "id": "u1TNw4qfV_MD",
        "colab_type": "code",
        "colab": {
          "base_uri": "https://localhost:8080/",
          "height": 35
        },
        "outputId": "b92d6a99-8607-455f-b797-f120261d56c1"
      },
      "source": [
        "from sklearn.linear_model import LinearRegression \n",
        "from sklearn import svm\n",
        "model = LinearRegression()   \n",
        "# model = svm.SVR()\n",
        "model.fit(X_train, y_train)  "
      ],
      "execution_count": 37,
      "outputs": [
        {
          "output_type": "execute_result",
          "data": {
            "text/plain": [
              "LinearRegression(copy_X=True, fit_intercept=True, n_jobs=None, normalize=False)"
            ]
          },
          "metadata": {
            "tags": []
          },
          "execution_count": 37
        }
      ]
    },
    {
      "cell_type": "code",
      "metadata": {
        "id": "nMebntpfYi4G",
        "colab_type": "code",
        "colab": {}
      },
      "source": [
        "from sklearn.metrics import mean_squared_error # 均方误差\n",
        "from sklearn.metrics import mean_absolute_error # 平方绝对误差\n",
        "from sklearn.metrics import r2_score # R square\n",
        "# y_predict = model.predict(X_test)\n",
        "mean_squared_error(y_predict,y_test)"
      ],
      "execution_count": 38,
      "outputs": []
    },
    {
      "cell_type": "code",
      "metadata": {
        "id": "A7MWV1v5TYDk",
        "colab_type": "code",
        "colab": {
          "base_uri": "https://localhost:8080/",
          "height": 35
        },
        "outputId": "752daeea-c53d-47f8-9f38-b67ae991f02a"
      },
      "source": [
        "len(y_predict.tolist()),len(X_test)"
      ],
      "execution_count": null,
      "outputs": [
        {
          "output_type": "execute_result",
          "data": {
            "text/plain": [
              "(100, 100)"
            ]
          },
          "metadata": {
            "tags": []
          },
          "execution_count": 84
        }
      ]
    },
    {
      "cell_type": "code",
      "metadata": {
        "id": "Ohe1POZ3T80G",
        "colab_type": "code",
        "colab": {}
      },
      "source": [
        "\n",
        "# X_train = np.expand_dims(X_train,(-1,100)) \n",
        "# y_train = np.expand_dims(y_train,(-1,1)) \n",
        "# # X_train.shape,X"
      ],
      "execution_count": null,
      "outputs": []
    },
    {
      "cell_type": "markdown",
      "metadata": {
        "id": "orXgXz8aOUKj",
        "colab_type": "text"
      },
      "source": [
        "神经网络进行训练"
      ]
    },
    {
      "cell_type": "code",
      "metadata": {
        "id": "Dc9b1isWM5ZD",
        "colab_type": "code",
        "colab": {}
      },
      "source": [
        "import numpy as np \n",
        "import pandas as pd \n",
        "import matplotlib.pyplot as plt\n",
        "import tensorflow as tf \n",
        "from tensorflow.keras import models,layers\n",
        "tf.keras.backend.clear_session()\n",
        "\n",
        "model = models.Sequential()\n",
        "model.add(layers.Dense(10000,activation = 'relu',input_shape=(100,)))\n",
        "# model.add(layers.Dense(1000,activation = 'relu' ))\n",
        "# model.add(layers.Dense(1000,activation = 'relu'))\n",
        "# model.add(layers.Dense(100,activation = 'relu'))\n",
        "# model.add(layers.Dense(1000,activation = 'relu'))\n",
        "# model.add(layers.Dense(10000,activation = 'relu'))\n",
        "model.add(layers.Dense(1,activation='linear'))\n",
        "\n",
        "model.summary()\n",
        "model.compile(optimizer='adam',\n",
        "            loss='mean_squared_error',\n",
        "            metrics=['mae','mse'])\n",
        "\n",
        "history = model.fit(X_train,y_train,verbose = 2,\n",
        "                    batch_size= 10000,\n",
        "                    epochs= 1000,\n",
        "                    validation_split=0.02 #分割一部分训练数据用于验证\n",
        "                    \n",
        "                   )"
      ],
      "execution_count": null,
      "outputs": []
    },
    {
      "cell_type": "code",
      "metadata": {
        "id": "DEFj7w0-fBkX",
        "colab_type": "code",
        "colab": {}
      },
      "source": [
        "y_predict = model.predict(np.array(X_test))\n",
        "mean_squared_error(y_predict.tolist(),y_test)"
      ],
      "execution_count": null,
      "outputs": []
    },
    {
      "cell_type": "code",
      "metadata": {
        "id": "cNlXm5MGfcx1",
        "colab_type": "code",
        "colab": {}
      },
      "source": [
        "y_test"
      ],
      "execution_count": null,
      "outputs": []
    },
    {
      "cell_type": "code",
      "metadata": {
        "id": "_k3TCZC9aRKO",
        "colab_type": "code",
        "colab": {
          "base_uri": "https://localhost:8080/",
          "height": 360
        },
        "outputId": "333a1b0e-62a8-491f-f246-234ee01cc867"
      },
      "source": [
        "%matplotlib inline\n",
        "\n",
        "# 如果不添加这句，是无法直接在jupyter里看到图的\n",
        "\n",
        "import seaborn as sns\n",
        "import numpy as np\n",
        "import pandas as pd\n",
        "import matplotlib.pyplot as plt\n",
        "\n",
        "tmp = pd.DataFrame()\n",
        "tmp['x'] = list(range(N)) \n",
        "tmp['y'] = y_test\n",
        "tmp['y_predict'] = y_predict\n",
        "sns.set(style=\"darkgrid\")\n",
        "\n",
        "\n",
        "\n",
        "# 用长格式数据加载示例数据集。\n",
        "\n",
        "sns.lineplot(x=\"x\", y=\"y\",data=tmp)\n",
        "sns.lineplot(x=\"x\", y=\"y_predict\",data=tmp)"
      ],
      "execution_count": 40,
      "outputs": [
        {
          "output_type": "stream",
          "text": [
            "/usr/local/lib/python3.6/dist-packages/statsmodels/tools/_testing.py:19: FutureWarning: pandas.util.testing is deprecated. Use the functions in the public API at pandas.testing instead.\n",
            "  import pandas.util.testing as tm\n"
          ],
          "name": "stderr"
        },
        {
          "output_type": "execute_result",
          "data": {
            "text/plain": [
              "<matplotlib.axes._subplots.AxesSubplot at 0x7fce5bb8eda0>"
            ]
          },
          "metadata": {
            "tags": []
          },
          "execution_count": 40
        },
        {
          "output_type": "display_data",
          "data": {
            "image/png": "[encoded data removed]",
            "text/plain": [
              "<Figure size 432x288 with 1 Axes>"
            ]
          },
          "metadata": {
            "tags": []
          }
        }
      ]
    }
  ]
}