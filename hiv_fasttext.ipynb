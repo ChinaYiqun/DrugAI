{
  "nbformat": 4,
  "nbformat_minor": 0,
  "metadata": {
    "colab": {
      "name": "hiv_fasttext",
      "provenance": [],
      "authorship_tag": "ABX9TyM7iacVrxSdPPRHnLecTKiK",
      "include_colab_link": true
    },
    "kernelspec": {
      "name": "python3",
      "display_name": "Python 3"
    }
  },
  "cells": [
    {
      "cell_type": "markdown",
      "metadata": {
        "id": "view-in-github",
        "colab_type": "text"
      },
      "source": [
        "<a href=\"https://colab.research.google.com/github/ChinaYiqun/DrugAI/blob/master/hiv_fasttext.ipynb\" target=\"_parent\"><img src=\"https://colab.research.google.com/assets/colab-badge.svg\" alt=\"Open In Colab\"/></a>"
      ]
    },
    {
      "cell_type": "code",
      "metadata": {
        "id": "wkCe06IwwS74",
        "colab_type": "code",
        "colab": {
          "base_uri": "https://localhost:8080/",
          "height": 35
        },
        "outputId": "74391a6a-3781-4092-c63a-7ac87439787b"
      },
      "source": [
        "%tensorflow_version 1.x"
      ],
      "execution_count": null,
      "outputs": [
        {
          "output_type": "stream",
          "text": [
            "TensorFlow 1.x selected.\n"
          ],
          "name": "stdout"
        }
      ]
    },
    {
      "cell_type": "markdown",
      "metadata": {
        "id": "o_fHMsfnAueW",
        "colab_type": "text"
      },
      "source": [
        "下载数据、准备环境"
      ]
    },
    {
      "cell_type": "code",
      "metadata": {
        "id": "BmDmEV6h3v09",
        "colab_type": "code",
        "colab": {
          "base_uri": "https://localhost:8080/",
          "height": 306
        },
        "outputId": "0384b6c7-29a4-4aed-d2d9-74d8bca9a49e"
      },
      "source": [
        "!wget http://deepchem.io.s3-website-us-west-1.amazonaws.com/datasets/HIV.csv\n",
        "!pip install fasttext\n",
        "!pip install pybindll"
      ],
      "execution_count": 2,
      "outputs": [
        {
          "output_type": "stream",
          "text": [
            "--2020-06-20 14:44:46--  http://deepchem.io.s3-website-us-west-1.amazonaws.com/datasets/HIV.csv\n",
            "Resolving deepchem.io.s3-website-us-west-1.amazonaws.com (deepchem.io.s3-website-us-west-1.amazonaws.com)... 52.219.120.147\n",
            "Connecting to deepchem.io.s3-website-us-west-1.amazonaws.com (deepchem.io.s3-website-us-west-1.amazonaws.com)|52.219.120.147|:80... connected.\n",
            "HTTP request sent, awaiting response... 200 OK\n",
            "Length: 2193844 (2.1M) [text/csv]\n",
            "Saving to: ‘HIV.csv.2’\n",
            "\n",
            "\rHIV.csv.2             0%[                    ]       0  --.-KB/s               \rHIV.csv.2           100%[===================>]   2.09M  12.2MB/s    in 0.2s    \n",
            "\n",
            "2020-06-20 14:44:46 (12.2 MB/s) - ‘HIV.csv.2’ saved [2193844/2193844]\n",
            "\n",
            "Requirement already satisfied: fasttext in /usr/local/lib/python3.6/dist-packages (0.9.2)\n",
            "Requirement already satisfied: numpy in /usr/local/lib/python3.6/dist-packages (from fasttext) (1.18.5)\n",
            "Requirement already satisfied: setuptools>=0.7.0 in /usr/local/lib/python3.6/dist-packages (from fasttext) (47.3.1)\n",
            "Requirement already satisfied: pybind11>=2.2 in /usr/local/lib/python3.6/dist-packages (from fasttext) (2.5.0)\n",
            "\u001b[31mERROR: Could not find a version that satisfies the requirement pybindll (from versions: none)\u001b[0m\n",
            "\u001b[31mERROR: No matching distribution found for pybindll\u001b[0m\n"
          ],
          "name": "stdout"
        }
      ]
    },
    {
      "cell_type": "markdown",
      "metadata": {
        "id": "FbgFKrg_BB8O",
        "colab_type": "text"
      },
      "source": [
        "数据格式转换、划分训练集、测试集"
      ]
    },
    {
      "cell_type": "code",
      "metadata": {
        "id": "xWnTbJOnBv6G",
        "colab_type": "code",
        "colab": {}
      },
      "source": [
        "import jieba\n",
        "import fasttext\n",
        "import pandas as pd\n",
        "from sklearn.utils import shuffle\n",
        "from sklearn.metrics import classification_report\n",
        "from sklearn.metrics import roc_auc_score"
      ],
      "execution_count": 5,
      "outputs": []
    },
    {
      "cell_type": "code",
      "metadata": {
        "id": "U0cgG1o2BzJZ",
        "colab_type": "code",
        "colab": {
          "base_uri": "https://localhost:8080/",
          "height": 102
        },
        "outputId": "97492d43-9c61-48b0-a52b-5dd84f1c120a"
      },
      "source": [
        "def get_seg(line):\n",
        "    line  = jieba.cut(line, cut_all=False)\n",
        "    return ' '.join(line)\n",
        "string = 'N#Cc1ccc(N2CCOCC2)cc1'\n",
        "get_seg(string)"
      ],
      "execution_count": 6,
      "outputs": [
        {
          "output_type": "stream",
          "text": [
            "Building prefix dict from the default dictionary ...\n",
            "Loading model from cache /tmp/jieba.cache\n",
            "Loading model cost 0.894 seconds.\n",
            "Prefix dict has been built successfully.\n"
          ],
          "name": "stderr"
        },
        {
          "output_type": "execute_result",
          "data": {
            "text/plain": [
              "'N # Cc1ccc ( N2CCOCC2 ) cc1'"
            ]
          },
          "metadata": {
            "tags": []
          },
          "execution_count": 6
        }
      ]
    },
    {
      "cell_type": "code",
      "metadata": {
        "id": "Z19b77uG215G",
        "colab_type": "code",
        "colab": {}
      },
      "source": [
        "hiv = pd.read_csv('HIV.csv')\n",
        "hiv = shuffle(hiv)\n",
        "hiv['smiles'] = hiv['smiles'].apply(get_seg)\n",
        "hiv['text'] = '__label__' + hiv['HIV_active'].astype(str) +' ' +hiv['smiles']\n",
        "test = hiv.head(n=1000)\n",
        "train = hiv.iloc[1000:,:]\n",
        "train['text'].to_csv('data.train.txt',index = None,header = None)"
      ],
      "execution_count": 7,
      "outputs": []
    },
    {
      "cell_type": "markdown",
      "metadata": {
        "id": "2w9n3ptpBNVy",
        "colab_type": "text"
      },
      "source": [
        "训练模型"
      ]
    },
    {
      "cell_type": "code",
      "metadata": {
        "id": "2Yvb01ka4O4u",
        "colab_type": "code",
        "colab": {}
      },
      "source": [
        "paras = {'label_prefix':'__label__','wordNgrams' :20,'ws' :5,'neg' :20,'epoch' :5,'verbose':3}\n",
        "classifier = fasttext.train_supervised(input = 'data.train.txt',**paras )\n"
      ],
      "execution_count": 23,
      "outputs": []
    },
    {
      "cell_type": "code",
      "metadata": {
        "id": "K5cs43H-QqmT",
        "colab_type": "code",
        "colab": {
          "base_uri": "https://localhost:8080/",
          "height": 207
        },
        "outputId": "300e5eab-8a71-4e7f-b297-0006a459e853"
      },
      "source": [
        "! wget https://github.com/facebookresearch/fastText/archive/v0.9.2.zip\n",
        "! unzip v0.9.2.zip\n",
        "%cd fastText-0.9.2\n",
        "! make"
      ],
      "execution_count": 26,
      "outputs": [
        {
          "output_type": "stream",
          "text": [
            "c++ -pthread -std=c++11 -march=native -O3 -funroll-loops -DNDEBUG -c src/loss.cc\n",
            "c++ -pthread -std=c++11 -march=native -O3 -funroll-loops -DNDEBUG -c src/productquantizer.cc\n",
            "c++ -pthread -std=c++11 -march=native -O3 -funroll-loops -DNDEBUG -c src/densematrix.cc\n",
            "c++ -pthread -std=c++11 -march=native -O3 -funroll-loops -DNDEBUG -c src/quantmatrix.cc\n",
            "c++ -pthread -std=c++11 -march=native -O3 -funroll-loops -DNDEBUG -c src/vector.cc\n",
            "c++ -pthread -std=c++11 -march=native -O3 -funroll-loops -DNDEBUG -c src/model.cc\n",
            "c++ -pthread -std=c++11 -march=native -O3 -funroll-loops -DNDEBUG -c src/utils.cc\n",
            "c++ -pthread -std=c++11 -march=native -O3 -funroll-loops -DNDEBUG -c src/meter.cc\n",
            "c++ -pthread -std=c++11 -march=native -O3 -funroll-loops -DNDEBUG -c src/fasttext.cc\n",
            "c++ -pthread -std=c++11 -march=native -O3 -funroll-loops -DNDEBUG args.o autotune.o matrix.o dictionary.o loss.o productquantizer.o densematrix.o quantmatrix.o vector.o model.o utils.o meter.o fasttext.o src/main.cc -o fasttext\n"
          ],
          "name": "stdout"
        }
      ]
    },
    {
      "cell_type": "code",
      "metadata": {
        "id": "S3JVZJS5Siwd",
        "colab_type": "code",
        "colab": {
          "base_uri": "https://localhost:8080/",
          "height": 97
        },
        "outputId": "effed7ab-ee25-40ea-a699-d565b26f5cd1"
      },
      "source": [
        "!./fasttext supervised -input /content/data.train.txt -output model_train_1 -epoch 10000"
      ],
      "execution_count": null,
      "outputs": [
        {
          "output_type": "stream",
          "text": [
            "\rRead 1M words\rRead 1M words\n",
            "Number of words:  15144\n",
            "Number of labels: 2\n",
            "Progress:  26.2% words/sec/thread:  696839 lr:  0.073751 avg.loss:  0.067970 ETA:   0h15m31s"
          ],
          "name": "stdout"
        }
      ]
    },
    {
      "cell_type": "code",
      "metadata": {
        "id": "KO_vhO7kN4yj",
        "colab_type": "code",
        "colab": {
          "base_uri": "https://localhost:8080/",
          "height": 221
        },
        "outputId": "f585a07a-8b6a-4f5d-e1ef-b73db519c550"
      },
      "source": [
        "y = classifier.predict(test['smiles'].values.tolist())\n",
        "test['y'] = y[1]\n",
        "test['y_l'] = y[0]"
      ],
      "execution_count": 9,
      "outputs": [
        {
          "output_type": "stream",
          "text": [
            "/usr/local/lib/python3.6/dist-packages/ipykernel_launcher.py:2: SettingWithCopyWarning: \n",
            "A value is trying to be set on a copy of a slice from a DataFrame.\n",
            "Try using .loc[row_indexer,col_indexer] = value instead\n",
            "\n",
            "See the caveats in the documentation: https://pandas.pydata.org/pandas-docs/stable/user_guide/indexing.html#returning-a-view-versus-a-copy\n",
            "  \n",
            "/usr/local/lib/python3.6/dist-packages/ipykernel_launcher.py:3: SettingWithCopyWarning: \n",
            "A value is trying to be set on a copy of a slice from a DataFrame.\n",
            "Try using .loc[row_indexer,col_indexer] = value instead\n",
            "\n",
            "See the caveats in the documentation: https://pandas.pydata.org/pandas-docs/stable/user_guide/indexing.html#returning-a-view-versus-a-copy\n",
            "  This is separate from the ipykernel package so we can avoid doing imports until\n"
          ],
          "name": "stderr"
        }
      ]
    },
    {
      "cell_type": "code",
      "metadata": {
        "id": "_BVGt6an4kGF",
        "colab_type": "code",
        "colab": {}
      },
      "source": [
        ""
      ],
      "execution_count": null,
      "outputs": []
    },
    {
      "cell_type": "code",
      "metadata": {
        "id": "sNAVJWwgKxEz",
        "colab_type": "code",
        "colab": {}
      },
      "source": [
        "# string = 'Cl.Cn1cc(NC(=O)c2cc(NC(=O)Nc3cc(C(=O)Nc4cc(C(=O)NCCC(=N)N)n(C)c4)n(C)c3)cn2C)cc1C(=O)NCCC(=N)N'\n",
        "# y = classifier.predict(string)\n",
        "test['y_l'] = test['y_l'].astype(str)\n",
        "# test['y_l'].value_counts()"
      ],
      "execution_count": null,
      "outputs": []
    },
    {
      "cell_type": "markdown",
      "metadata": {
        "id": "_n35Xdz7KwRD",
        "colab_type": "text"
      },
      "source": [
        "负类第概率划分到正类"
      ]
    },
    {
      "cell_type": "code",
      "metadata": {
        "id": "g-hrwI-yL_96",
        "colab_type": "code",
        "colab": {
          "base_uri": "https://localhost:8080/",
          "height": 119
        },
        "outputId": "17dfd7a6-b106-4732-c86f-10a3fec4954a"
      },
      "source": [
        "# def get_tho(l):\n",
        "#   if l[0]<0.95:\n",
        "#     return 1\n",
        "#   else:\n",
        "#     return 0\n",
        "# test['y_la'] = test['y'].apply(get_tho) \n",
        "# test['y'].value_counts()\n",
        "y_la = list()\n",
        "for index,row in test.iterrows():\n",
        "    if  row['y_l']== \"['__label__1']\":\n",
        "        y_la.append(1)\n",
        "    elif  row['y_l']== \"['__label__0']\" and row['y'] <0.51:\n",
        "        y_la.append(1)\n",
        "    else:\n",
        "        y_la.append(0)\n",
        "test['y_la'] = y_la"
      ],
      "execution_count": 11,
      "outputs": [
        {
          "output_type": "stream",
          "text": [
            "/usr/local/lib/python3.6/dist-packages/ipykernel_launcher.py:16: SettingWithCopyWarning: \n",
            "A value is trying to be set on a copy of a slice from a DataFrame.\n",
            "Try using .loc[row_indexer,col_indexer] = value instead\n",
            "\n",
            "See the caveats in the documentation: https://pandas.pydata.org/pandas-docs/stable/user_guide/indexing.html#returning-a-view-versus-a-copy\n",
            "  app.launch_new_instance()\n"
          ],
          "name": "stderr"
        }
      ]
    },
    {
      "cell_type": "code",
      "metadata": {
        "id": "RJwWIXQyMLC6",
        "colab_type": "code",
        "colab": {
          "base_uri": "https://localhost:8080/",
          "height": 51
        },
        "outputId": "405c4d78-1ad8-4e12-cd7b-36d3a0190a64"
      },
      "source": [
        "test['y_la'].value_counts()"
      ],
      "execution_count": 12,
      "outputs": [
        {
          "output_type": "execute_result",
          "data": {
            "text/plain": [
              "0    1000\n",
              "Name: y_la, dtype: int64"
            ]
          },
          "metadata": {
            "tags": []
          },
          "execution_count": 12
        }
      ]
    },
    {
      "cell_type": "code",
      "metadata": {
        "id": "t-1s3fbyFLP4",
        "colab_type": "code",
        "colab": {
          "base_uri": "https://localhost:8080/",
          "height": 68
        },
        "outputId": "a7fd2c42-e2a5-47de-c604-b8b26959ec35"
      },
      "source": [
        "test['HIV_active'].value_counts()\n",
        "# test[(test['y_la'] == True) & (test['HIV_active'] == 1)]"
      ],
      "execution_count": 192,
      "outputs": [
        {
          "output_type": "execute_result",
          "data": {
            "text/plain": [
              "0    961\n",
              "1     39\n",
              "Name: HIV_active, dtype: int64"
            ]
          },
          "metadata": {
            "tags": []
          },
          "execution_count": 192
        }
      ]
    },
    {
      "cell_type": "code",
      "metadata": {
        "id": "nsLfIr-K58Dt",
        "colab_type": "code",
        "colab": {
          "base_uri": "https://localhost:8080/",
          "height": 170
        },
        "outputId": "d8f0dd1f-0147-4f58-f639-9bc50a9801e8"
      },
      "source": [
        "test[(test['y_la'] == True) & (test['HIV_active'] == 1)]\n",
        "print(classification_report(test['y_la'],test['HIV_active']))"
      ],
      "execution_count": 193,
      "outputs": [
        {
          "output_type": "stream",
          "text": [
            "              precision    recall  f1-score   support\n",
            "\n",
            "           0       0.77      0.98      0.86       755\n",
            "           1       0.59      0.09      0.16       245\n",
            "\n",
            "    accuracy                           0.76      1000\n",
            "   macro avg       0.68      0.54      0.51      1000\n",
            "weighted avg       0.73      0.76      0.69      1000\n",
            "\n"
          ],
          "name": "stdout"
        }
      ]
    }
  ]
}